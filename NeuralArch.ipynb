{
  "nbformat": 4,
  "nbformat_minor": 0,
  "metadata": {
    "colab": {
      "provenance": [],
      "authorship_tag": "ABX9TyPsJ4zMVWEO8w5MmLXbzvTh",
      "include_colab_link": true
    },
    "kernelspec": {
      "name": "python3",
      "display_name": "Python 3"
    },
    "language_info": {
      "name": "python"
    }
  },
  "cells": [
    {
      "cell_type": "markdown",
      "metadata": {
        "id": "view-in-github",
        "colab_type": "text"
      },
      "source": [
        "<a href=\"https://colab.research.google.com/github/testgithubprecious/Ml_projects/blob/main/NeuralArch.ipynb\" target=\"_parent\"><img src=\"https://colab.research.google.com/assets/colab-badge.svg\" alt=\"Open In Colab\"/></a>"
      ]
    },
    {
      "cell_type": "code",
      "execution_count": null,
      "metadata": {
        "id": "QA0qkaiikw59"
      },
      "outputs": [],
      "source": [
        "# Install if not already: pip install torch pandas numpy scikit-learn\n",
        "\n",
        "import torch\n",
        "import torch.nn as nn\n",
        "import torch.optim as optim\n",
        "import pandas as pd\n",
        "from sklearn.model_selection import train_test_split\n",
        "\n",
        "# ------------------------------\n",
        "# Sample implicit feedback data\n",
        "# ------------------------------\n",
        "data = {\n",
        "    \"user_id\": [0, 0, 1, 1, 2, 2, 3, 4],\n",
        "    \"item_id\": [1, 2, 2, 3, 1, 3, 0, 1],\n",
        "    \"rating\":  [1, 1, 1, 1, 1, 1, 1, 1]  # Implicit feedback (1 = interaction)\n",
        "}\n",
        "df = pd.DataFrame(data)\n",
        "\n",
        "# ------------------------------\n",
        "# Unique user/item counts\n",
        "# ------------------------------\n",
        "num_users = df['user_id'].nunique()\n",
        "num_items = df['item_id'].nunique()\n",
        "\n",
        "# Train/test split\n",
        "train_data, test_data = train_test_split(df, test_size=0.25, random_state=42)\n",
        "\n",
        "# ------------------------------\n",
        "# Neural Collaborative Filtering Model\n",
        "# ------------------------------\n",
        "class NCF(nn.Module):\n",
        "    def __init__(self, num_users, num_items, embedding_dim=8):\n",
        "        super().__init__()\n",
        "        self.user_embedding = nn.Embedding(num_users, embedding_dim)\n",
        "        self.item_embedding = nn.Embedding(num_items, embedding_dim)\n",
        "\n",
        "        self.mlp = nn.Sequential(\n",
        "            nn.Linear(embedding_dim * 2, 64),\n",
        "            nn.ReLU(),\n",
        "            nn.Linear(64, 16),\n",
        "            nn.ReLU(),\n",
        "            nn.Linear(16, 1),\n",
        "            nn.Sigmoid()\n",
        "        )\n",
        "\n",
        "    def forward(self, user_ids, item_ids):\n",
        "        u_embed = self.user_embedding(user_ids)\n",
        "        i_embed = self.item_embedding(item_ids)\n",
        "        x = torch.cat([u_embed, i_embed], dim=1)\n",
        "        return self.mlp(x)\n",
        "\n",
        "# ------------------------------\n",
        "# Instantiate model, loss, optimizer\n",
        "# ------------------------------\n",
        "device = torch.device(\"cuda\" if torch.cuda.is_available() else \"cpu\")\n",
        "model = NCF(num_users, num_items).to(device)\n",
        "criterion = nn.BCELoss()\n",
        "optimizer = optim.Adam(model.parameters(), lr=0.01)\n",
        "\n",
        "# ------------------------------\n",
        "# Convert training data to tensors\n",
        "# ------------------------------\n",
        "user_tensor = torch.tensor(train_data[\"user_id\"].values, dtype=torch.long, device=device)\n",
        "item_tensor = torch.tensor(train_data[\"item_id\"].values, dtype=torch.long, device=device)\n",
        "label_tensor = torch.tensor(train_data[\"rating\"].values, dtype=torch.float32, device=device)\n",
        "\n",
        "# ------------------------------\n",
        "# Train (1 epoch demo)\n",
        "# ------------------------------\n",
        "model.train()\n",
        "for epoch in range(1):\n",
        "    preds = model(user_tensor, item_tensor).squeeze()\n",
        "    loss = criterion(preds, label_tensor)\n",
        "\n",
        "    optimizer.zero_grad()\n",
        "    loss.backward()\n",
        "    optimizer.step()\n",
        "\n",
        "    print(f\"✅ Epoch {epoch+1} - Loss: {loss.item():.4f}\")\n",
        "\n",
        "# ------------------------------\n",
        "# Test prediction\n",
        "# ------------------------------\n",
        "model.eval()\n",
        "with torch.no_grad():\n",
        "    test_user = torch.tensor(test_data[\"user_id\"].values, dtype=torch.long, device=device)\n",
        "    test_item = torch.tensor(test_data[\"item_id\"].values, dtype=torch.long, device=device)\n",
        "    test_preds = model(test_user, test_item).squeeze()\n",
        "    print(\"\\n📢 Test Predictions (interaction scores):\", test_preds.tolist())"
      ]
    }
  ]
}