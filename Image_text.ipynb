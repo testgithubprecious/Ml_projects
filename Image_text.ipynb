{
  "nbformat": 4,
  "nbformat_minor": 0,
  "metadata": {
    "colab": {
      "provenance": [],
      "authorship_tag": "ABX9TyMKlRtKHxFKmaMSp6E8SOL1",
      "include_colab_link": true
    },
    "kernelspec": {
      "name": "python3",
      "display_name": "Python 3"
    },
    "language_info": {
      "name": "python"
    }
  },
  "cells": [
    {
      "cell_type": "markdown",
      "metadata": {
        "id": "view-in-github",
        "colab_type": "text"
      },
      "source": [
        "<a href=\"https://colab.research.google.com/github/testgithubprecious/Ml_projects/blob/main/Image_text.ipynb\" target=\"_parent\"><img src=\"https://colab.research.google.com/assets/colab-badge.svg\" alt=\"Open In Colab\"/></a>"
      ]
    },
    {
      "cell_type": "code",
      "execution_count": null,
      "metadata": {
        "id": "boOnwm36faSn"
      },
      "outputs": [],
      "source": [
        "# Install dependencies if not already\n",
        "# pip install torch torchvision matplotlib pillow openai-clip\n",
        "\n",
        "import torch\n",
        "import clip\n",
        "from PIL import Image\n",
        "import matplotlib.pyplot as plt\n",
        "\n",
        "# ----- Load CLIP model -----\n",
        "device = \"cuda\" if torch.cuda.is_available() else \"cpu\"\n",
        "model, preprocess = clip.load(\"ViT-B/32\", device=device)\n",
        "\n",
        "# ----- Input image -----\n",
        "image_path = \"example.jpg\"  # Replace with your image path\n",
        "image = preprocess(Image.open(image_path)).unsqueeze(0).to(device)\n",
        "\n",
        "# ----- Candidate text descriptions -----\n",
        "text_descriptions = [\n",
        "    \"a dog playing in the park\",\n",
        "    \"a cat sitting on a sofa\",\n",
        "    \"a person riding a bike\",\n",
        "    \"a beautiful sunset over mountains\",\n",
        "]\n",
        "\n",
        "# Tokenize text\n",
        "text_tokens = clip.tokenize(text_descriptions).to(device)\n",
        "\n",
        "# ----- Encode image and text -----\n",
        "with torch.no_grad():\n",
        "    image_features = model.encode_image(image)\n",
        "    text_features = model.encode_text(text_tokens)\n",
        "\n",
        "    # Normalize features\n",
        "    image_features /= image_features.norm(dim=-1, keepdim=True)\n",
        "    text_features /= text_features.norm(dim=-1, keepdim=True)\n",
        "\n",
        "    # Compute cosine similarity (logits)\n",
        "    logits_per_image = image_features @ text_features.T\n",
        "    probs = logits_per_image.softmax(dim=-1).cpu().numpy()\n",
        "\n",
        "# ----- Display the input image -----\n",
        "plt.imshow(Image.open(image_path))\n",
        "plt.axis(\"off\")\n",
        "plt.title(\"📷 Input Image\")\n",
        "plt.show()\n",
        "\n",
        "# ----- Print top matching results -----\n",
        "print(\"🧠 Top Text Matches for Image:\")\n",
        "for i, (desc, prob) in enumerate(zip(text_descriptions, probs[0])):\n",
        "    print(f\"{i+1}. {desc} – {prob:.2%}\")"
      ]
    }
  ]
}