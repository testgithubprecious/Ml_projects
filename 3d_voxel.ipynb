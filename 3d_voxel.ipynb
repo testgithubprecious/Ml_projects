{
  "nbformat": 4,
  "nbformat_minor": 0,
  "metadata": {
    "colab": {
      "provenance": [],
      "authorship_tag": "ABX9TyOExq7wT6v72C8iQ/Jav0zZ",
      "include_colab_link": true
    },
    "kernelspec": {
      "name": "python3",
      "display_name": "Python 3"
    },
    "language_info": {
      "name": "python"
    }
  },
  "cells": [
    {
      "cell_type": "markdown",
      "metadata": {
        "id": "view-in-github",
        "colab_type": "text"
      },
      "source": [
        "<a href=\"https://colab.research.google.com/github/testgithubprecious/Ml_projects/blob/main/3d_voxel.ipynb\" target=\"_parent\"><img src=\"https://colab.research.google.com/assets/colab-badge.svg\" alt=\"Open In Colab\"/></a>"
      ]
    },
    {
      "cell_type": "code",
      "execution_count": null,
      "metadata": {
        "id": "sm6VtlMEtsFp"
      },
      "outputs": [],
      "source": [
        "\n",
        "# Install required libraries if not already:\n",
        "# pip install torch torchvision matplotlib numpy trimesh scikit-image scipy\n",
        "\n",
        "import torch\n",
        "import torch.nn as nn\n",
        "import torch.nn.functional as F\n",
        "import numpy as np\n",
        "import trimesh\n",
        "from scipy.ndimage import zoom\n",
        "import matplotlib.pyplot as plt\n",
        "\n",
        "# ------------------------------\n",
        "# Function: Convert mesh to voxel grid\n",
        "# ------------------------------\n",
        "def mesh_to_voxel(file_path, grid_size=32):\n",
        "    mesh = trimesh.load(file_path)\n",
        "    voxel = mesh.voxelized(pitch=mesh.scale / grid_size).matrix.astype(np.float32)\n",
        "    # Normalize to fixed size\n",
        "    voxel = zoom(voxel, (grid_size / voxel.shape[0],) * 3)\n",
        "    return voxel\n",
        "\n",
        "# ------------------------------\n",
        "# Example usage: load a sample .off mesh\n",
        "# Replace with your own file path\n",
        "# ------------------------------\n",
        "file = 'data/ModelNet10/chair/train/chair_0001.off'\n",
        "vox = mesh_to_voxel(file)  # Shape: (32, 32, 32)\n",
        "vox_tensor = torch.tensor(vox).unsqueeze(0).unsqueeze(0)  # Shape: (1, 1, 32, 32, 32)\n",
        "\n",
        "# ------------------------------\n",
        "# 3D CNN Model for volumetric classification\n",
        "# ------------------------------\n",
        "class VoxelCNN(nn.Module):\n",
        "    def __init__(self, num_classes=10):\n",
        "        super(VoxelCNN, self).__init__()\n",
        "        self.conv1 = nn.Conv3d(1, 32, kernel_size=3, padding=1)\n",
        "        self.conv2 = nn.Conv3d(32, 64, kernel_size=3, padding=1)\n",
        "        self.pool = nn.MaxPool3d(2)\n",
        "        self.fc1 = nn.Linear(64 * 8 * 8 * 8, 256)\n",
        "        self.fc2 = nn.Linear(256, num_classes)\n",
        "\n",
        "    def forward(self, x):\n",
        "        x = self.pool(F.relu(self.conv1(x)))  # -> (B, 32, 16, 16, 16)\n",
        "        x = self.pool(F.relu(self.conv2(x)))  # -> (B, 64, 8, 8, 8)\n",
        "        x = x.view(x.size(0), -1)\n",
        "        x = F.relu(self.fc1(x))\n",
        "        return self.fc2(x)\n",
        "\n",
        "# ------------------------------\n",
        "# Initialize model and test\n",
        "# ------------------------------\n",
        "device = torch.device('cuda' if torch.cuda.is_available() else 'cpu')\n",
        "model = VoxelCNN(num_classes=10).to(device)\n",
        "\n",
        "# Forward pass\n",
        "output = model(vox_tensor.to(device))\n",
        "print(\"🔍 Predicted class logits:\", output.detach().cpu().numpy())"
      ]
    }
  ]
}