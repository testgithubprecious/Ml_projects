{
  "nbformat": 4,
  "nbformat_minor": 0,
  "metadata": {
    "colab": {
      "provenance": [],
      "authorship_tag": "ABX9TyNFau37UHT+jYhaLZoAWawr",
      "include_colab_link": true
    },
    "kernelspec": {
      "name": "python3",
      "display_name": "Python 3"
    },
    "language_info": {
      "name": "python"
    }
  },
  "cells": [
    {
      "cell_type": "markdown",
      "metadata": {
        "id": "view-in-github",
        "colab_type": "text"
      },
      "source": [
        "<a href=\"https://colab.research.google.com/github/testgithubprecious/Ml_projects/blob/main/Deepdream.ipynb\" target=\"_parent\"><img src=\"https://colab.research.google.com/assets/colab-badge.svg\" alt=\"Open In Colab\"/></a>"
      ]
    },
    {
      "cell_type": "code",
      "execution_count": null,
      "metadata": {
        "id": "sm6VtlMEtsFp"
      },
      "outputs": [],
      "source": [
        "# Install if not already: pip install torch torchvision pillow matplotlib\n",
        "\n",
        "import torch\n",
        "import torchvision.models as models\n",
        "import torchvision.transforms as transforms\n",
        "from PIL import Image\n",
        "import matplotlib.pyplot as plt\n",
        "import numpy as np\n",
        "\n",
        "# ------------------------------\n",
        "# Load pre-trained model\n",
        "# ------------------------------\n",
        "model = models.inception_v3(pretrained=True, aux_logits=False)\n",
        "model.eval()\n",
        "\n",
        "# ------------------------------\n",
        "# Select a layer to enhance\n",
        "# ------------------------------\n",
        "selected_layer = model.Mixed_5b  # Try Mixed_6a or others\n",
        "\n",
        "# Hook to capture activations\n",
        "activations = None\n",
        "def hook_fn(module, input, output):\n",
        "    global activations\n",
        "    activations = output\n",
        "\n",
        "selected_layer.register_forward_hook(hook_fn)\n",
        "\n",
        "# ------------------------------\n",
        "# Image preprocessing / deprocessing\n",
        "# ------------------------------\n",
        "preprocess = transforms.Compose([\n",
        "    transforms.Resize((224, 224)),\n",
        "    transforms.ToTensor(),\n",
        "    transforms.Normalize([0.485, 0.456, 0.406],  # ImageNet mean\n",
        "                         [0.229, 0.224, 0.225])  # ImageNet std\n",
        "])\n",
        "\n",
        "def deprocess(img_tensor):\n",
        "    img = img_tensor.detach().cpu().clone()\n",
        "    img = img.squeeze().permute(1, 2, 0).numpy()\n",
        "    img = img * np.array([0.229, 0.224, 0.225]) + np.array([0.485, 0.456, 0.406])\n",
        "    img = np.clip(img, 0, 1)\n",
        "    return img\n",
        "\n",
        "# ------------------------------\n",
        "# Load image\n",
        "# ------------------------------\n",
        "image_path = \"sample.jpg\"  # Replace with your image path\n",
        "image = Image.open(image_path).convert('RGB')\n",
        "input_tensor = preprocess(image).unsqueeze(0).to(\"cuda\" if torch.cuda.is_available() else \"cpu\")\n",
        "input_tensor.requires_grad_(True)\n",
        "\n",
        "# ------------------------------\n",
        "# DeepDream gradient ascent\n",
        "# ------------------------------\n",
        "optimizer = torch.optim.Adam([input_tensor], lr=0.01)\n",
        "\n",
        "for i in range(30):  # Iterations\n",
        "    optimizer.zero_grad()\n",
        "    model(input_tensor)\n",
        "    loss = activations.norm()  # Maximize activations\n",
        "    loss.backward()\n",
        "    optimizer.step()\n",
        "\n",
        "    if i % 10 == 0:\n",
        "        print(f\"🌀 Iteration {i}, Loss: {loss.item():.4f}\")\n",
        "\n",
        "# ------------------------------\n",
        "# Display DeepDream result\n",
        "# ------------------------------\n",
        "dream_image = deprocess(input_tensor)\n",
        "plt.imshow(dream_image)\n",
        "plt.axis(\"off\")\n",
        "plt.title(\"💭 DeepDream Image\")\n",
        "plt.show()"
      ]
    }
  ]
}