{
  "nbformat": 4,
  "nbformat_minor": 0,
  "metadata": {
    "colab": {
      "provenance": [],
      "authorship_tag": "ABX9TyMYOJ7CCvtSSlCoCS8nOf7d",
      "include_colab_link": true
    },
    "kernelspec": {
      "name": "python3",
      "display_name": "Python 3"
    },
    "language_info": {
      "name": "python"
    }
  },
  "cells": [
    {
      "cell_type": "markdown",
      "metadata": {
        "id": "view-in-github",
        "colab_type": "text"
      },
      "source": [
        "<a href=\"https://colab.research.google.com/github/testgithubprecious/Ml_projects/blob/main/NAS_demo.ipynb\" target=\"_parent\"><img src=\"https://colab.research.google.com/assets/colab-badge.svg\" alt=\"Open In Colab\"/></a>"
      ]
    },
    {
      "cell_type": "code",
      "execution_count": null,
      "metadata": {
        "id": "sm6VtlMEtsFp"
      },
      "outputs": [],
      "source": [
        "\n",
        "# Install if not already: pip install torch torchvision matplotlib\n",
        "\n",
        "import torch\n",
        "import torch.nn as nn\n",
        "import torch.optim as optim\n",
        "import torchvision\n",
        "import torchvision.transforms as transforms\n",
        "import random\n",
        "\n",
        "# ------------------------------\n",
        "# Load MNIST\n",
        "# ------------------------------\n",
        "transform = transforms.Compose([transforms.ToTensor()])\n",
        "\n",
        "train_set = torchvision.datasets.MNIST(root='./data', train=True, download=True, transform=transform)\n",
        "val_set = torchvision.datasets.MNIST(root='./data', train=False, download=True, transform=transform)\n",
        "\n",
        "train_loader = torch.utils.data.DataLoader(train_set, batch_size=64, shuffle=True)\n",
        "val_loader = torch.utils.data.DataLoader(val_set, batch_size=1000, shuffle=False)\n",
        "\n",
        "# ------------------------------\n",
        "# Random architecture generator\n",
        "# ------------------------------\n",
        "def generate_model(input_size=784, output_size=10):\n",
        "    layers = []\n",
        "    current_size = input_size\n",
        "    num_layers = random.randint(1, 3)\n",
        "\n",
        "    for _ in range(num_layers):\n",
        "        next_size = random.choice([64, 128, 256])\n",
        "        layers.append(nn.Linear(current_size, next_size))\n",
        "        layers.append(nn.ReLU())\n",
        "        current_size = next_size\n",
        "\n",
        "    layers.append(nn.Linear(current_size, output_size))\n",
        "    return nn.Sequential(*layers)\n",
        "\n",
        "# ------------------------------\n",
        "# Train & evaluate\n",
        "# ------------------------------\n",
        "def train_and_evaluate(model, epochs=2):\n",
        "    model = model.to(device)\n",
        "    criterion = nn.CrossEntropyLoss()\n",
        "    optimizer = optim.Adam(model.parameters(), lr=0.001)\n",
        "\n",
        "    # Training\n",
        "    model.train()\n",
        "    for epoch in range(epochs):\n",
        "        for images, labels in train_loader:\n",
        "            images = images.view(images.size(0), -1).to(device)\n",
        "            labels = labels.to(device)\n",
        "\n",
        "            optimizer.zero_grad()\n",
        "            outputs = model(images)\n",
        "            loss = criterion(outputs, labels)\n",
        "            loss.backward()\n",
        "            optimizer.step()\n",
        "\n",
        "    # Evaluation\n",
        "    model.eval()\n",
        "    correct, total = 0, 0\n",
        "    with torch.no_grad():\n",
        "        for images, labels in val_loader:\n",
        "            images = images.view(images.size(0), -1).to(device)\n",
        "            labels = labels.to(device)\n",
        "            outputs = model(images)\n",
        "            _, predicted = torch.max(outputs, 1)\n",
        "            total += labels.size(0)\n",
        "            correct += (predicted == labels).sum().item()\n",
        "\n",
        "    return correct / total\n",
        "\n",
        "# ------------------------------\n",
        "# Neural Architecture Search (Random Search)\n",
        "# ------------------------------\n",
        "device = torch.device(\"cuda\" if torch.cuda.is_available() else \"cpu\")\n",
        "best_acc, best_model = 0, None\n",
        "\n",
        "print(\"🔍 Starting Neural Architecture Search...\")\n",
        "for i in range(5):  # Try 5 different architectures\n",
        "    model = generate_model()\n",
        "    acc = train_and_evaluate(model)\n",
        "    print(f\"Model {i+1}: Accuracy = {acc:.4f}\")\n",
        "    if acc > best_acc:\n",
        "        best_acc = acc\n",
        "        best_model = model\n",
        "\n",
        "print(f\"\\n🏆 Best Model Accuracy: {best_acc:.4f}\")"
      ]
    }
  ]
}