{
  "nbformat": 4,
  "nbformat_minor": 0,
  "metadata": {
    "colab": {
      "provenance": [],
      "authorship_tag": "ABX9TyP/Pmmp7zLnkToBDIm/pxR8",
      "include_colab_link": true
    },
    "kernelspec": {
      "name": "python3",
      "display_name": "Python 3"
    },
    "language_info": {
      "name": "python"
    }
  },
  "cells": [
    {
      "cell_type": "markdown",
      "metadata": {
        "id": "view-in-github",
        "colab_type": "text"
      },
      "source": [
        "<a href=\"https://colab.research.google.com/github/testgithubprecious/Ml_projects/blob/main/Real_timePose.ipynb\" target=\"_parent\"><img src=\"https://colab.research.google.com/assets/colab-badge.svg\" alt=\"Open In Colab\"/></a>"
      ]
    },
    {
      "cell_type": "code",
      "execution_count": null,
      "metadata": {
        "id": "sm6VtlMEtsFp"
      },
      "outputs": [],
      "source": [
        "\n",
        "# Install if not already: pip install mediapipe opencv-python\n",
        "\n",
        "import cv2\n",
        "import mediapipe as mp\n",
        "\n",
        "# ------------------------------\n",
        "# Initialize MediaPipe Pose\n",
        "# ------------------------------\n",
        "mp_pose = mp.solutions.pose\n",
        "mp_drawing = mp.solutions.drawing_utils\n",
        "\n",
        "pose_estimator = mp_pose.Pose(\n",
        "    static_image_mode=False,\n",
        "    min_detection_confidence=0.5,\n",
        "    min_tracking_confidence=0.5\n",
        ")\n",
        "\n",
        "# ------------------------------\n",
        "# Start webcam capture\n",
        "# ------------------------------\n",
        "cap = cv2.VideoCapture(0)\n",
        "\n",
        "print(\"📷 Starting real-time pose estimation... Press 'q' to quit.\")\n",
        "\n",
        "while cap.isOpened():\n",
        "    ret, frame = cap.read()\n",
        "    if not ret:\n",
        "        break\n",
        "\n",
        "    # Convert BGR to RGB for MediaPipe\n",
        "    image = cv2.cvtColor(frame, cv2.COLOR_BGR2RGB)\n",
        "    image.flags.writeable = False\n",
        "    results = pose_estimator.process(image)\n",
        "\n",
        "    # Convert back to BGR for OpenCV\n",
        "    image.flags.writeable = True\n",
        "    image = cv2.cvtColor(image, cv2.COLOR_RGB2BGR)\n",
        "\n",
        "    # Draw pose landmarks\n",
        "    if results.pose_landmarks:\n",
        "        mp_drawing.draw_landmarks(\n",
        "            image, results.pose_landmarks, mp_pose.POSE_CONNECTIONS\n",
        "        )\n",
        "\n",
        "    # Show the output\n",
        "    cv2.imshow('Pose Estimation', image)\n",
        "\n",
        "    # Exit on pressing 'q'\n",
        "    if cv2.waitKey(10) & 0xFF == ord('q'):\n",
        "        break\n",
        "\n",
        "cap.release()\n",
        "cv2.destroyAllWindows()"
      ]
    }
  ]
}