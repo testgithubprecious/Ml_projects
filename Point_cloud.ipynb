{
  "nbformat": 4,
  "nbformat_minor": 0,
  "metadata": {
    "colab": {
      "provenance": [],
      "authorship_tag": "ABX9TyOueo8hsOYUgG6yg6M1TqqB",
      "include_colab_link": true
    },
    "kernelspec": {
      "name": "python3",
      "display_name": "Python 3"
    },
    "language_info": {
      "name": "python"
    }
  },
  "cells": [
    {
      "cell_type": "markdown",
      "metadata": {
        "id": "view-in-github",
        "colab_type": "text"
      },
      "source": [
        "<a href=\"https://colab.research.google.com/github/testgithubprecious/Ml_projects/blob/main/Point_cloud.ipynb\" target=\"_parent\"><img src=\"https://colab.research.google.com/assets/colab-badge.svg\" alt=\"Open In Colab\"/></a>"
      ]
    },
    {
      "cell_type": "code",
      "execution_count": null,
      "metadata": {
        "id": "sm6VtlMEtsFp"
      },
      "outputs": [],
      "source": [
        "\n",
        "# Install dependencies if not already:\n",
        "# pip install torch torchvision torch-geometric pytorch3d numpy\n",
        "\n",
        "import torch\n",
        "import torch.nn as nn\n",
        "import torch.nn.functional as F\n",
        "from torch_geometric.datasets import ModelNet\n",
        "from torch_geometric.transforms import SamplePoints\n",
        "from torch_geometric.loader import DataLoader\n",
        "\n",
        "# ------------------------------\n",
        "# Load ModelNet10 dataset\n",
        "# ------------------------------\n",
        "transform = SamplePoints(1024)  # Sample 1024 points per mesh\n",
        "train_dataset = ModelNet(root='data/ModelNet10', name='10', train=True, transform=transform)\n",
        "test_dataset = ModelNet(root='data/ModelNet10', name='10', train=False, transform=transform)\n",
        "\n",
        "train_loader = DataLoader(train_dataset, batch_size=16, shuffle=True)\n",
        "test_loader = DataLoader(test_dataset, batch_size=16)\n",
        "\n",
        "# ------------------------------\n",
        "# Simplified PointNet model\n",
        "# ------------------------------\n",
        "class SimplePointNet(nn.Module):\n",
        "    def __init__(self, num_classes):\n",
        "        super(SimplePointNet, self).__init__()\n",
        "        self.fc1 = nn.Linear(3, 64)\n",
        "        self.fc2 = nn.Linear(64, 128)\n",
        "        self.fc3 = nn.Linear(128, 1024)\n",
        "        self.fc4 = nn.Linear(1024, 512)\n",
        "        self.fc5 = nn.Linear(512, 256)\n",
        "        self.fc6 = nn.Linear(256, num_classes)\n",
        "\n",
        "    def forward(self, data):\n",
        "        x = data.pos.view(data.pos.size(0), -1, 3)  # (B, N, 3)\n",
        "        x = F.relu(self.fc1(x))\n",
        "        x = F.relu(self.fc2(x))\n",
        "        x = F.relu(self.fc3(x))                      # (B, N, 1024)\n",
        "        x = torch.max(x, 1)[0]                        # Global max pooling -> (B, 1024)\n",
        "        x = F.relu(self.fc4(x))\n",
        "        x = F.relu(self.fc5(x))\n",
        "        return self.fc6(x)\n",
        "\n",
        "# ------------------------------\n",
        "# Initialize\n",
        "# ------------------------------\n",
        "device = torch.device(\"cuda\" if torch.cuda.is_available() else \"cpu\")\n",
        "model = SimplePointNet(num_classes=10).to(device)\n",
        "optimizer = torch.optim.Adam(model.parameters(), lr=0.001)\n",
        "criterion = nn.CrossEntropyLoss()\n",
        "\n",
        "# ------------------------------\n",
        "# Training loop (demo: 1 batch)\n",
        "# ------------------------------\n",
        "model.train()\n",
        "for data in train_loader:\n",
        "    data = data.to(device)\n",
        "    optimizer.zero_grad()\n",
        "    output = model(data)\n",
        "    loss = criterion(output, data.y)\n",
        "    loss.backward()\n",
        "    optimizer.step()\n",
        "    print(f\"🧠 Training Loss (1 batch): {loss.item():.4f}\")\n",
        "    break"
      ]
    }
  ]
}