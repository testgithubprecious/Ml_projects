{
  "nbformat": 4,
  "nbformat_minor": 0,
  "metadata": {
    "colab": {
      "provenance": [],
      "authorship_tag": "ABX9TyPFHV1zFeKbUcltZN+oG8fa",
      "include_colab_link": true
    },
    "kernelspec": {
      "name": "python3",
      "display_name": "Python 3"
    },
    "language_info": {
      "name": "python"
    }
  },
  "cells": [
    {
      "cell_type": "markdown",
      "metadata": {
        "id": "view-in-github",
        "colab_type": "text"
      },
      "source": [
        "<a href=\"https://colab.research.google.com/github/testgithubprecious/Ml_projects/blob/main/VQA.ipynb\" target=\"_parent\"><img src=\"https://colab.research.google.com/assets/colab-badge.svg\" alt=\"Open In Colab\"/></a>"
      ]
    },
    {
      "cell_type": "code",
      "execution_count": null,
      "metadata": {
        "id": "sm6VtlMEtsFp"
      },
      "outputs": [],
      "source": [
        "\n",
        "# Install dependencies:\n",
        "# pip install transformers torch torchvision pillow\n",
        "\n",
        "from transformers import BlipProcessor, BlipForQuestionAnswering\n",
        "from PIL import Image\n",
        "import torch\n",
        "\n",
        "# ------------------------------\n",
        "# Load model and processor\n",
        "# ------------------------------\n",
        "processor = BlipProcessor.from_pretrained(\"Salesforce/blip-vqa-base\")\n",
        "model = BlipForQuestionAnswering.from_pretrained(\"Salesforce/blip-vqa-base\")\n",
        "model.eval()\n",
        "\n",
        "# ------------------------------\n",
        "# Load image\n",
        "# ------------------------------\n",
        "image_path = \"zebra.jpg\"  # Replace with your image path\n",
        "image = Image.open(image_path).convert('RGB')\n",
        "\n",
        "# ------------------------------\n",
        "# Define your question\n",
        "# ------------------------------\n",
        "question = \"What animal is in the picture?\"\n",
        "\n",
        "# Preprocess inputs\n",
        "inputs = processor(image, question, return_tensors=\"pt\")\n",
        "\n",
        "# ------------------------------\n",
        "# Inference\n",
        "# ------------------------------\n",
        "with torch.no_grad():\n",
        "    out = model.generate(**inputs)\n",
        "\n",
        "# Decode and print answer\n",
        "answer = processor.decode(out[0], skip_special_tokens=True)\n",
        "print(\"🖼️ Question:\", question)\n",
        "print(\"🧠 Answer:\", answer)"
      ]
    }
  ]
}