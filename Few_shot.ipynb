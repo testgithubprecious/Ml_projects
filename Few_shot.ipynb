{
  "nbformat": 4,
  "nbformat_minor": 0,
  "metadata": {
    "colab": {
      "provenance": [],
      "authorship_tag": "ABX9TyN/r+6cbczpDwMb9bD4+BQK",
      "include_colab_link": true
    },
    "kernelspec": {
      "name": "python3",
      "display_name": "Python 3"
    },
    "language_info": {
      "name": "python"
    }
  },
  "cells": [
    {
      "cell_type": "markdown",
      "metadata": {
        "id": "view-in-github",
        "colab_type": "text"
      },
      "source": [
        "<a href=\"https://colab.research.google.com/github/testgithubprecious/Ml_projects/blob/main/Few_shot.ipynb\" target=\"_parent\"><img src=\"https://colab.research.google.com/assets/colab-badge.svg\" alt=\"Open In Colab\"/></a>"
      ]
    },
    {
      "cell_type": "code",
      "execution_count": null,
      "metadata": {
        "id": "sm6VtlMEtsFp"
      },
      "outputs": [],
      "source": [
        "\n",
        "# Install if not already: pip install torch torchvision matplotlib\n",
        "\n",
        "import torch\n",
        "import torch.nn as nn\n",
        "import torch.nn.functional as F\n",
        "from torchvision.datasets import MNIST\n",
        "from torchvision import transforms\n",
        "import numpy as np\n",
        "\n",
        "# ------------------------------\n",
        "# Preprocessing MNIST\n",
        "# ------------------------------\n",
        "transform = transforms.Compose([\n",
        "    transforms.ToTensor(),\n",
        "    transforms.Normalize((0.1307,), (0.3081,))\n",
        "])\n",
        "dataset = MNIST(root='./data', train=True, transform=transform, download=True)\n",
        "\n",
        "# ------------------------------\n",
        "# Few-shot episode creator\n",
        "# ------------------------------\n",
        "def create_episode(dataset, n_way=3, k_shot=5, q_queries=5):\n",
        "    classes = np.random.choice(list(set(dataset.targets.numpy())), n_way, replace=False)\n",
        "    support_images, support_labels = [], []\n",
        "    query_images, query_labels = [], []\n",
        "\n",
        "    for i, cls in enumerate(classes):\n",
        "        idxs = (dataset.targets == cls).nonzero(as_tuple=True)[0]\n",
        "        selected = idxs[torch.randperm(len(idxs))][:k_shot + q_queries]\n",
        "        support = selected[:k_shot]\n",
        "        query = selected[k_shot:]\n",
        "\n",
        "        support_images.append(dataset.data[support])\n",
        "        query_images.append(dataset.data[query])\n",
        "        support_labels.extend([i] * k_shot)\n",
        "        query_labels.extend([i] * q_queries)\n",
        "\n",
        "    support_images = torch.cat(support_images).unsqueeze(1).float() / 255\n",
        "    query_images = torch.cat(query_images).unsqueeze(1).float() / 255\n",
        "    support_labels = torch.tensor(support_labels)\n",
        "    query_labels = torch.tensor(query_labels)\n",
        "    return support_images, support_labels, query_images, query_labels\n",
        "\n",
        "# ------------------------------\n",
        "# Embedding network\n",
        "# ------------------------------\n",
        "class EmbeddingNet(nn.Module):\n",
        "    def __init__(self):\n",
        "        super().__init__()\n",
        "        self.net = nn.Sequential(\n",
        "            nn.Conv2d(1, 32, 3), nn.ReLU(), nn.MaxPool2d(2),\n",
        "            nn.Conv2d(32, 64, 3), nn.ReLU(), nn.MaxPool2d(2)\n",
        "        )\n",
        "    def forward(self, x):\n",
        "        return self.net(x).view(x.size(0), -1)  # Flatten embeddings\n",
        "\n",
        "# ------------------------------\n",
        "# Prototypical loss and accuracy\n",
        "# ------------------------------\n",
        "def prototypical_loss(support_emb, support_lbl, query_emb, query_lbl, n_way):\n",
        "    prototypes = torch.stack([support_emb[support_lbl == i].mean(0) for i in range(n_way)])\n",
        "    dists = torch.cdist(query_emb, prototypes)\n",
        "    pred = torch.argmin(dists, dim=1)\n",
        "    acc = (pred == query_lbl).float().mean().item()\n",
        "    return F.cross_entropy(-dists, query_lbl), acc\n",
        "\n",
        "# ------------------------------\n",
        "# Run a single few-shot episode\n",
        "# ------------------------------\n",
        "device = torch.device(\"cuda\" if torch.cuda.is_available() else \"cpu\")\n",
        "model = EmbeddingNet().to(device)\n",
        "optimizer = torch.optim.Adam(model.parameters(), lr=0.001)\n",
        "\n",
        "support_x, support_y, query_x, query_y = create_episode(dataset)\n",
        "support_x, query_x = support_x.to(device), query_x.to(device)\n",
        "support_y, query_y = support_y.to(device), query_y.to(device)\n",
        "\n",
        "model.train()\n",
        "support_emb = model(support_x)\n",
        "query_emb = model(query_x)\n",
        "\n",
        "loss, acc = prototypical_loss(support_emb, support_y, query_emb, query_y, n_way=3)\n",
        "optimizer.zero_grad()\n",
        "loss.backward()\n",
        "optimizer.step()\n",
        "\n",
        "print(f\"🔍 Few-Shot Episode — Loss: {loss.item():.4f}, Accuracy: {acc * 100:.2f}%\")"
      ]
    }
  ]
}