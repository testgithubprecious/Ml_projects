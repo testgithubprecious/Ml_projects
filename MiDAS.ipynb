{
  "nbformat": 4,
  "nbformat_minor": 0,
  "metadata": {
    "colab": {
      "provenance": [],
      "authorship_tag": "ABX9TyNtrrSnYfZT0ANZCVqEJwVM",
      "include_colab_link": true
    },
    "kernelspec": {
      "name": "python3",
      "display_name": "Python 3"
    },
    "language_info": {
      "name": "python"
    }
  },
  "cells": [
    {
      "cell_type": "markdown",
      "metadata": {
        "id": "view-in-github",
        "colab_type": "text"
      },
      "source": [
        "<a href=\"https://colab.research.google.com/github/testgithubprecious/Ml_projects/blob/main/MiDAS.ipynb\" target=\"_parent\"><img src=\"https://colab.research.google.com/assets/colab-badge.svg\" alt=\"Open In Colab\"/></a>"
      ]
    },
    {
      "cell_type": "code",
      "execution_count": null,
      "metadata": {
        "id": "sm6VtlMEtsFp"
      },
      "outputs": [],
      "source": [
        "\n",
        "# Install dependencies:\n",
        "# pip install torch torchvision opencv-python matplotlib\n",
        "\n",
        "import torch\n",
        "import torchvision.transforms as T\n",
        "import cv2\n",
        "import matplotlib.pyplot as plt\n",
        "import numpy as np\n",
        "\n",
        "# ------------------------------\n",
        "# Load MiDaS model from PyTorch Hub\n",
        "# ------------------------------\n",
        "model_type = \"DPT_Large\"  # Alternatives: DPT_Hybrid, MiDaS_small\n",
        "midas = torch.hub.load(\"intel-isl/MiDaS\", model_type)\n",
        "midas.eval()\n",
        "\n",
        "# Move to GPU if available\n",
        "device = torch.device(\"cuda\" if torch.cuda.is_available() else \"cpu\")\n",
        "midas.to(device)\n",
        "\n",
        "# Load transforms\n",
        "midas_transforms = torch.hub.load(\"intel-isl/MiDaS\", \"transforms\")\n",
        "transform = midas_transforms.dpt_transform if \"DPT\" in model_type else midas_transforms.small_transform\n",
        "\n",
        "# ------------------------------\n",
        "# Load and preprocess image\n",
        "# ------------------------------\n",
        "img_path = \"room.jpg\"  # Replace with your image path\n",
        "img = cv2.imread(img_path)\n",
        "img_rgb = cv2.cvtColor(img, cv2.COLOR_BGR2RGB)\n",
        "input_tensor = transform(img_rgb).to(device)\n",
        "\n",
        "# ------------------------------\n",
        "# Depth inference\n",
        "# ------------------------------\n",
        "with torch.no_grad():\n",
        "    prediction = midas(input_tensor.unsqueeze(0))\n",
        "    prediction = torch.nn.functional.interpolate(\n",
        "        prediction.unsqueeze(1),\n",
        "        size=img.shape[:2],\n",
        "        mode=\"bicubic\",\n",
        "        align_corners=False,\n",
        "    ).squeeze()\n",
        "\n",
        "depth_map = prediction.cpu().numpy()\n",
        "\n",
        "# Normalize depth map for visualization\n",
        "depth_vis = (depth_map - depth_map.min()) / (depth_map.max() - depth_map.min())\n",
        "\n",
        "# ------------------------------\n",
        "# Plot results\n",
        "# ------------------------------\n",
        "plt.figure(figsize=(10, 5))\n",
        "plt.subplot(1, 2, 1)\n",
        "plt.title(\"Input Image\")\n",
        "plt.imshow(img_rgb)\n",
        "plt.axis(\"off\")\n",
        "\n",
        "plt.subplot(1, 2, 2)\n",
        "plt.title(\"Predicted Depth Map\")\n",
        "plt.imshow(depth_vis, cmap='inferno')\n",
        "plt.axis(\"off\")\n",
        "plt.show()"
      ]
    }
  ]
}