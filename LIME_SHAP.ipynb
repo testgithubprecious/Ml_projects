{
  "nbformat": 4,
  "nbformat_minor": 0,
  "metadata": {
    "colab": {
      "provenance": [],
      "authorship_tag": "ABX9TyNxBUOYLsBFXboQIooxz7K+",
      "include_colab_link": true
    },
    "kernelspec": {
      "name": "python3",
      "display_name": "Python 3"
    },
    "language_info": {
      "name": "python"
    }
  },
  "cells": [
    {
      "cell_type": "markdown",
      "metadata": {
        "id": "view-in-github",
        "colab_type": "text"
      },
      "source": [
        "<a href=\"https://colab.research.google.com/github/testgithubprecious/Ml_projects/blob/main/LIME_SHAP.ipynb\" target=\"_parent\"><img src=\"https://colab.research.google.com/assets/colab-badge.svg\" alt=\"Open In Colab\"/></a>"
      ]
    },
    {
      "cell_type": "code",
      "execution_count": null,
      "metadata": {
        "id": "sm6VtlMEtsFp"
      },
      "outputs": [],
      "source": [
        "\n",
        "# Install dependencies if not already:\n",
        "# pip install scikit-learn lime shap matplotlib\n",
        "\n",
        "import numpy as np\n",
        "import pandas as pd\n",
        "import shap\n",
        "import lime\n",
        "import lime.lime_tabular\n",
        "import matplotlib.pyplot as plt\n",
        "\n",
        "from sklearn.datasets import load_breast_cancer\n",
        "from sklearn.ensemble import RandomForestClassifier\n",
        "from sklearn.model_selection import train_test_split\n",
        "\n",
        "# -----------------------\n",
        "# Load dataset\n",
        "# -----------------------\n",
        "data = load_breast_cancer()\n",
        "X = pd.DataFrame(data.data, columns=data.feature_names)\n",
        "y = data.target\n",
        "feature_names = data.feature_names\n",
        "\n",
        "# Train-test split\n",
        "X_train, X_test, y_train, y_test = train_test_split(X, y, random_state=42)\n",
        "\n",
        "# -----------------------\n",
        "# Train a black-box model\n",
        "# -----------------------\n",
        "model = RandomForestClassifier(n_estimators=100, random_state=42)\n",
        "model.fit(X_train, y_train)\n",
        "\n",
        "# -----------------------\n",
        "# Pick multiple instances to explain\n",
        "# -----------------------\n",
        "indices_to_explain = [5, 10, 15]  # example instances\n",
        "\n",
        "# -----------------------\n",
        "# LIME Explanation\n",
        "# -----------------------\n",
        "explainer_lime = lime.lime_tabular.LimeTabularExplainer(\n",
        "    training_data=np.array(X_train),\n",
        "    feature_names=feature_names,\n",
        "    class_names=data.target_names,\n",
        "    mode=\"classification\"\n",
        ")\n",
        "\n",
        "for idx in indices_to_explain:\n",
        "    instance = X_test.iloc[idx:idx+1].values\n",
        "    exp = explainer_lime.explain_instance(instance[0], model.predict_proba, num_features=5)\n",
        "    print(f\"\\n🧠 LIME Explanation for instance {idx}:\")\n",
        "    # In scripts, render with matplotlib\n",
        "    fig = exp.as_pyplot_figure()\n",
        "    plt.show()\n",
        "\n",
        "# -----------------------\n",
        "# SHAP Explanation\n",
        "# -----------------------\n",
        "explainer_shap = shap.TreeExplainer(model)\n",
        "shap_values = explainer_shap.shap_values(X_test)\n",
        "\n",
        "# Summary plot (global feature importance)\n",
        "print(\"\\n🧠 SHAP Explanation (summary plot):\")\n",
        "shap.summary_plot(shap_values[1], X_test, feature_names=feature_names, show=True)\n",
        "\n",
        "# Force plot for individual instances\n",
        "for idx in indices_to_explain:\n",
        "    print(f\"\\n🧠 SHAP Force Plot for instance {idx}:\")\n",
        "    shap.force_plot(\n",
        "        explainer_shap.expected_value[1],\n",
        "        shap_values[1][idx],\n",
        "        X_test.iloc[idx],\n",
        "        matplotlib=True\n",
        "    )"
      ]
    }
  ]
}